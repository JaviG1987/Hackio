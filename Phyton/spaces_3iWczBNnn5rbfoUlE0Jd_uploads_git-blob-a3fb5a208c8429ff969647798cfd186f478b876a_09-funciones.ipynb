{
 "cells": [
  {
   "cell_type": "markdown",
   "metadata": {},
   "source": [
    "\n",
    "<div style=\"text-align: center;\">\n",
    "  <img src=\"https://github.com/Hack-io-Data/Imagenes/blob/main/01-LogosHackio/logo_celeste@4x.png?raw=true\" alt=\"esquema\" />\n",
    "</div>"
   ]
  },
  {
   "cell_type": "markdown",
   "metadata": {},
   "source": [
    "#### 1. Escribe una función sin parámetros que imprima el siguiente mensaje \"¡Hola! Bienvenido.\"\n"
   ]
  },
  {
   "cell_type": "code",
   "execution_count": 26,
   "metadata": {},
   "outputs": [
    {
     "name": "stdout",
     "output_type": "stream",
     "text": [
      "¡Hola! Buenos días\n"
     ]
    }
   ],
   "source": [
    "def saludo ():\n",
    "   print (\"¡Hola! Buenos días\")\n",
    "\n",
    "saludo()\n",
    "\n"
   ]
  },
  {
   "cell_type": "markdown",
   "metadata": {},
   "source": [
    "#### 2. Escribe una función que reciba dos parámetros y devuelva la suma de ambos.\n"
   ]
  },
  {
   "cell_type": "code",
   "execution_count": 25,
   "metadata": {},
   "outputs": [
    {
     "data": {
      "text/plain": [
       "5"
      ]
     },
     "execution_count": 25,
     "metadata": {},
     "output_type": "execute_result"
    }
   ],
   "source": [
    "def suma (numero1, numero2):\n",
    "  \n",
    "    resultado = numero1 + numero2\n",
    "\n",
    "    return resultado\n",
    "\n",
    "suma (3,2)\n"
   ]
  },
  {
   "cell_type": "markdown",
   "metadata": {},
   "source": [
    "#### 3. Escribe una función que reciba un número y devuelva True si es par, False si no lo es."
   ]
  },
  {
   "cell_type": "code",
   "execution_count": 43,
   "metadata": {},
   "outputs": [
    {
     "data": {
      "text/plain": [
       "False"
      ]
     },
     "execution_count": 43,
     "metadata": {},
     "output_type": "execute_result"
    }
   ],
   "source": [
    "def numero_par (numero):\n",
    "    \"\"\"comprueba si un numero es par o no\n",
    "\n",
    "    Args:\n",
    "        numero (int): numero entero_\n",
    "\n",
    "    Returns:\n",
    "        _type_: _devuelve true si es par o false si es impar\n",
    "    \"\"\"\n",
    "    numero_par_impar = numero %2 == 0\n",
    "    return  numero_par_impar\n",
    "\n",
    "numero_par (7)\n"
   ]
  },
  {
   "cell_type": "markdown",
   "metadata": {},
   "source": [
    "#### 4. Escribe un función que devuelva un saludo personalizado a una persona dado su nombre. \n"
   ]
  },
  {
   "cell_type": "code",
   "execution_count": 42,
   "metadata": {},
   "outputs": [
    {
     "data": {
      "text/plain": [
       "'Hola Sara encantado de saludarte'"
      ]
     },
     "execution_count": 42,
     "metadata": {},
     "output_type": "execute_result"
    }
   ],
   "source": [
    "def saludo_personalizado (nombre):\n",
    "    \"\"\"devuelve un saludo incorporando el nombre introducido\n",
    "\n",
    "    Args:\n",
    "        nombre (_type_): un nombre en formato string_\n",
    "\n",
    "    Returns:\n",
    "        _type_: _devuelve un saludo personalizado\n",
    "    \"\"\"\n",
    "    saludo_nombre = f\"Hola {nombre} encantado de saludarte\"\n",
    "\n",
    "    return saludo_nombre\n",
    "\n",
    "saludo_personalizado (\"Sara\")"
   ]
  },
  {
   "cell_type": "markdown",
   "metadata": {},
   "source": [
    "#### 5. Escribe una función que sume todos los números que reciba como argumento. La función debe recibir una cantidad variable de argumentos y devolver la suma de todos ellos."
   ]
  },
  {
   "cell_type": "code",
   "execution_count": 41,
   "metadata": {},
   "outputs": [
    {
     "data": {
      "text/plain": [
       "23"
      ]
     },
     "execution_count": 41,
     "metadata": {},
     "output_type": "execute_result"
    }
   ],
   "source": [
    "def suma_numeros (*numeros):\n",
    "    \"\"\"suma ed todos los numero\n",
    "\n",
    "    Returns:\n",
    "        _type_: devuelve la suma de todos los numero del argumento\n",
    "    \"\"\"\n",
    "    suma = sum (numeros)\n",
    "    return suma\n",
    "\n",
    "suma_numeros (3, 4, 7, 9)\n"
   ]
  },
  {
   "cell_type": "markdown",
   "metadata": {},
   "source": [
    "#### 6. Escribe una función que cuente las letras de una palabra y devuelva un diccionario con la cantidad de veces que se repite cada letra \n"
   ]
  },
  {
   "cell_type": "code",
   "execution_count": 48,
   "metadata": {},
   "outputs": [
    {
     "data": {
      "text/plain": [
       "{'P': 1, 'e': 1, 'r': 2, 'o': 1}"
      ]
     },
     "execution_count": 48,
     "metadata": {},
     "output_type": "execute_result"
    }
   ],
   "source": [
    "def contar_letras (palabra):\n",
    "    \"\"\"funcion que cuenta las letras de una palabra y si se repiten\n",
    "\n",
    "    Args:\n",
    "        palabra (_type_): _una palabra \n",
    "\n",
    "    Returns:\n",
    "        _type_: devuelve un diccionario con el numero de veces que se repite cada letra de la palabra\n",
    "    \"\"\"\n",
    "    contador = {}\n",
    "    for letras in palabra:\n",
    "        if letras in contador:\n",
    "            contador [letras] += 1\n",
    "        else:\n",
    "            contador [letras] = 1\n",
    "\n",
    "    return contador\n",
    "\n",
    "palabra1 = \"Perro\"\n",
    "\n",
    "contar_letras (palabra1)\n"
   ]
  },
  {
   "cell_type": "markdown",
   "metadata": {},
   "source": [
    "#### 7. Escribe un función recursiva para calcular el factorial de un número entero no negativo."
   ]
  },
  {
   "cell_type": "code",
   "execution_count": 56,
   "metadata": {},
   "outputs": [
    {
     "data": {
      "text/plain": [
       "6"
      ]
     },
     "execution_count": 56,
     "metadata": {},
     "output_type": "execute_result"
    }
   ],
   "source": [
    "def factorial (numero):\n",
    "    \"\"\"calcula el numero factorial de un numero introducido\n",
    "\n",
    "    Args:\n",
    "        numero (_type_): numero entero\n",
    "\n",
    "    Returns:\n",
    "        _type_: devuelve el factorial del numero introducio, si es 0 o 1, devuelve 1\n",
    "    \"\"\"\n",
    "    if numero == 0 or numero == 1:\n",
    "        return 1\n",
    "    \n",
    "    else:\n",
    "        return numero * factorial (numero-1)\n",
    "\n",
    "factorial (3)"
   ]
  },
  {
   "cell_type": "markdown",
   "metadata": {},
   "source": [
    "#### 8. Escribe una función que tome dos parámetros: `figura` (una cadena que puede ser `\"rectangulo\"`, `\"circulo\"` o `\"triangulo\"`) y `datos` (una tupla con los datos necesarios para calcular el área de la figura). "
   ]
  },
  {
   "cell_type": "code",
   "execution_count": 60,
   "metadata": {},
   "outputs": [
    {
     "name": "stdout",
     "output_type": "stream",
     "text": [
      "200.0\n"
     ]
    }
   ],
   "source": [
    "def calcular_area(figura, datos):\n",
    "    \"\"\"calcula el area de una forma geometrica segun sus datos\n",
    "\n",
    "    Args:\n",
    "        figura (_type_): formato string\n",
    "        datos (_type_): formato cadena de valores\n",
    "    Returns:\n",
    "        _type_: devuelve el area de la figura introducida\n",
    "    \"\"\"\n",
    "    if figura == \"rectangulo\":\n",
    "        base, altura = datos\n",
    "        return base * altura\n",
    "    elif figura == \"circulo\":\n",
    "        radio, = datos\n",
    "        return 3.14 * radio ** 2\n",
    "    elif figura == \"triangulo\":\n",
    "        base, altura = datos\n",
    "        return (base * altura) / 2\n",
    "    else:\n",
    "        return \"Figura no reconocida\"\n",
    "    \n",
    "area_triangulo = calcular_area (\"triangulo\", (10, 40))\n",
    "print (area_triangulo)\n",
    "        "
   ]
  },
  {
   "cell_type": "markdown",
   "metadata": {},
   "source": [
    "#### 9. Escribe una función que tome una lista de números como parámetro y devuelva el número más grande de la lista. No utilices la función `max()` de Python en tu solución."
   ]
  },
  {
   "cell_type": "code",
   "execution_count": 78,
   "metadata": {},
   "outputs": [
    {
     "ename": "NameError",
     "evalue": "name 'lista' is not defined",
     "output_type": "error",
     "traceback": [
      "\u001b[1;31m---------------------------------------------------------------------------\u001b[0m",
      "\u001b[1;31mNameError\u001b[0m                                 Traceback (most recent call last)",
      "Cell \u001b[1;32mIn[78], line 19\u001b[0m\n\u001b[0;32m     16\u001b[0m     \u001b[38;5;28;01mreturn\u001b[39;00m maximo\n\u001b[0;32m     18\u001b[0m lista_num \u001b[38;5;241m=\u001b[39m [\u001b[38;5;241m1\u001b[39m, \u001b[38;5;241m5\u001b[39m, \u001b[38;5;241m50\u001b[39m, \u001b[38;5;241m7\u001b[39m, \u001b[38;5;241m9\u001b[39m]\n\u001b[1;32m---> 19\u001b[0m \u001b[43mlista_numeros\u001b[49m\u001b[43m \u001b[49m\u001b[43m(\u001b[49m\u001b[43mlista_num\u001b[49m\u001b[43m)\u001b[49m\n",
      "Cell \u001b[1;32mIn[78], line 12\u001b[0m, in \u001b[0;36mlista_numeros\u001b[1;34m(numeros)\u001b[0m\n\u001b[0;32m      1\u001b[0m \u001b[38;5;28;01mdef\u001b[39;00m \u001b[38;5;21mlista_numeros\u001b[39m (numeros):\n\u001b[0;32m      2\u001b[0m \u001b[38;5;250m    \u001b[39m\u001b[38;5;124;03m\"\"\"calcula el valor maximo de una lista\u001b[39;00m\n\u001b[0;32m      3\u001b[0m \n\u001b[0;32m      4\u001b[0m \u001b[38;5;124;03m    Args:\u001b[39;00m\n\u001b[1;32m   (...)\u001b[0m\n\u001b[0;32m      8\u001b[0m \u001b[38;5;124;03m        _type_: devuelve el valro maximo de una lista\u001b[39;00m\n\u001b[0;32m      9\u001b[0m \u001b[38;5;124;03m    \"\"\"\u001b[39;00m\n\u001b[1;32m---> 12\u001b[0m     maximo \u001b[38;5;241m=\u001b[39m \u001b[43mlista\u001b[49m[\u001b[38;5;241m0\u001b[39m]  \n\u001b[0;32m     13\u001b[0m     \u001b[38;5;28;01mfor\u001b[39;00m numero \u001b[38;5;129;01min\u001b[39;00m lista:\n\u001b[0;32m     14\u001b[0m         \u001b[38;5;28;01mif\u001b[39;00m numero \u001b[38;5;241m>\u001b[39m maximo:\n",
      "\u001b[1;31mNameError\u001b[0m: name 'lista' is not defined"
     ]
    }
   ],
   "source": [
    "def lista_numeros (numeros):\n",
    "    \"\"\"calcula el valor maximo de una lista\n",
    "\n",
    "    Args:\n",
    "        numeros (_type_): numeros enteros\n",
    "\n",
    "    Returns:\n",
    "        _type_: devuelve el valro maximo de una lista\n",
    "    \"\"\"\n",
    "\n",
    "    \n",
    "    maximo = lista[0]  \n",
    "    for numero in lista:\n",
    "        if numero > maximo:\n",
    "            maximo = numero  \n",
    "    return maximo\n",
    "\n",
    "lista_num = [1, 5, 50, 7, 9]\n",
    "lista_numeros (lista_num)\n"
   ]
  },
  {
   "cell_type": "markdown",
   "metadata": {},
   "source": [
    "#### 10. Escribe una función que tome una cadena como parámetro un texto y devuelva `True` si la cadena es un palíndromo (se lee igual de izquierda a derecha que de derecha a izquierda), y `False` en caso contrario. Ignora los espacios y considera mayúsculas y minúsculas de manera insensible.\n"
   ]
  },
  {
   "cell_type": "code",
   "execution_count": 75,
   "metadata": {},
   "outputs": [
    {
     "data": {
      "text/plain": [
       "True"
      ]
     },
     "execution_count": 75,
     "metadata": {},
     "output_type": "execute_result"
    }
   ],
   "source": [
    "def es_palindromo(texto):\n",
    "    \"\"\"comprueba si el texto introducido e sun palindromo\n",
    "\n",
    "    Args:\n",
    "        texto (_type_): un texto formato string\n",
    "\n",
    "    Returns:\n",
    "        _type_: _devuelve true si se comprueba que el texto se lee igual de derecha as izquierda que de izquierda a derecha\n",
    "    \"\"\"\n",
    "    texto = texto.lower().replace(\" \", \"\")\n",
    "    return texto == texto[::-1]\n",
    "\n",
    "frase = \"Sara Varas\"\n",
    "es_palindromo (frase)"
   ]
  },
  {
   "cell_type": "markdown",
   "metadata": {},
   "source": [
    "#### 11. Escribe una función que tome una cadena como parámetro y devuelva dos valores: la cantidad de vocales y la cantidad de consonantes presentes en la cadena. Ignora los espacios y considera mayúsculas y minúsculas de manera insensible.\n"
   ]
  },
  {
   "cell_type": "code",
   "execution_count": 73,
   "metadata": {},
   "outputs": [
    {
     "name": "stdout",
     "output_type": "stream",
     "text": [
      "(7, 8)\n"
     ]
    }
   ],
   "source": [
    "def contar (cadena):\n",
    "    \"\"\"calcula la cantidad de vocales y consonante de una cadena\n",
    "\n",
    "    Args:\n",
    "        cadena (_type_): cadena tipo strinf\n",
    "\n",
    "    Returns:\n",
    "        _type_: añade en contadores la cantidad de vocales y consonantes de una cadena de texto\n",
    "    \"\"\"\n",
    "    cadena = cadena.lower() \n",
    "    num_voc = 0\n",
    "    num_cons = 0\n",
    "    vocales = \"aeiou\"\n",
    "    consonantes = \"bcdfghjklmnpqrstvwxyz\"\n",
    "\n",
    "    for caracter in cadena:\n",
    "        if caracter in vocales:\n",
    "            num_voc += 1\n",
    "        elif caracter in consonantes:\n",
    "            num_cons += 1\n",
    "\n",
    "    return num_voc, num_cons\n",
    "\n",
    "frase = \"Hola me llamo Javi\"\n",
    "print (contar (frase))\n",
    "    "
   ]
  }
 ],
 "metadata": {
  "kernelspec": {
   "display_name": "hackio",
   "language": "python",
   "name": "python3"
  },
  "language_info": {
   "codemirror_mode": {
    "name": "ipython",
    "version": 3
   },
   "file_extension": ".py",
   "mimetype": "text/x-python",
   "name": "python",
   "nbconvert_exporter": "python",
   "pygments_lexer": "ipython3",
   "version": "3.12.6"
  }
 },
 "nbformat": 4,
 "nbformat_minor": 2
}
