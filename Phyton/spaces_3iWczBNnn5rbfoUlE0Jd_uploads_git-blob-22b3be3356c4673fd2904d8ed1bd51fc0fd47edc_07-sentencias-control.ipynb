{
 "cells": [
  {
   "cell_type": "markdown",
   "metadata": {},
   "source": [
    "<div style=\"text-align: center;\">\n",
    "  <img src=\"https://github.com/Hack-io-Data/Imagenes/blob/main/01-LogosHackio/logo_celeste@4x.png?raw=true\" alt=\"logo hack(io)\" />\n",
    "</div>"
   ]
  },
  {
   "cell_type": "markdown",
   "metadata": {},
   "source": [
    "#### 1. Escribe un programa que determine si un número es par o impar.\n",
    "\n"
   ]
  },
  {
   "cell_type": "code",
   "execution_count": 3,
   "metadata": {},
   "outputs": [
    {
     "name": "stdout",
     "output_type": "stream",
     "text": [
      "El número 4 es par.\n"
     ]
    }
   ],
   "source": [
    "\n",
    "numero = int(input(\"Ingrese un número: \"))\n",
    "\n",
    "\n",
    "if numero % 2 == 0:\n",
    "    print(f\"El número {numero} es par.\")\n",
    "else:\n",
    "    print(f\"El número {numero} es impar.\")\n",
    "\n"
   ]
  },
  {
   "cell_type": "markdown",
   "metadata": {},
   "source": [
    "#### 2. Genera un programa que nos diga si es de noche, de día o tarde según la hora proporcionada por el usuario."
   ]
  },
  {
   "cell_type": "code",
   "execution_count": 4,
   "metadata": {},
   "outputs": [
    {
     "name": "stdout",
     "output_type": "stream",
     "text": [
      "es de día\n"
     ]
    }
   ],
   "source": [
    "hora_dia = int (input(f\"Introduce la hora del día\"))\n",
    "\n",
    "if hora_dia >= 6 and hora_dia <=14:\n",
    "    print (f\"es de día\")\n",
    "\n",
    "elif hora_dia >14 and hora_dia <=19:\n",
    "    print (f\"es por la tarde\")\n",
    "\n",
    "else:\n",
    "    print (f\"es de noche\")"
   ]
  },
  {
   "cell_type": "markdown",
   "metadata": {},
   "source": [
    "#### 3. Dado un nombre imprime un saludo personalizado."
   ]
  },
  {
   "cell_type": "code",
   "execution_count": 5,
   "metadata": {},
   "outputs": [
    {
     "name": "stdout",
     "output_type": "stream",
     "text": [
      "Hola Javi bienvenido al curso\n"
     ]
    }
   ],
   "source": [
    "while True:\n",
    "    nombre_introducido = (input (f\"Introduce tu nombre\"))\n",
    "    if nombre_introducido.isdigit ():\n",
    "        print (f\"el dato introducido no es un nombre\")\n",
    "    else:\n",
    "        break\n",
    "print (f\"Hola\", nombre_introducido, \"bienvenido al curso\")\n",
    "\n",
    "\n",
    "  \n",
    "\n"
   ]
  },
  {
   "cell_type": "markdown",
   "metadata": {},
   "source": [
    "#### 4. Escribe un programa que determine qué calificación en texto tiene un alumno en base a su calificación numérica. Las reglas de calificación son: \n",
    "\n",
    "- 0 - 69 insuficiente\n",
    "\n",
    "- 70 - 79 bien\n",
    "\n",
    "- 80 - 89 muy bien\n",
    "\n",
    "- 90 - 100 excelente\n"
   ]
  },
  {
   "cell_type": "code",
   "execution_count": 6,
   "metadata": {},
   "outputs": [
    {
     "name": "stdout",
     "output_type": "stream",
     "text": [
      "la nota es 50\n",
      "la nota es INSUFICIENTE\n"
     ]
    }
   ],
   "source": [
    "nota_alumno = int(input (f\"Introduce la nota del alumno del 0 al 100\"))\n",
    "print (f\"la nota es\", nota_alumno)\n",
    "\n",
    "if nota_alumno >=0 and nota_alumno <=69:\n",
    "    print (f\"la nota es INSUFICIENTE\")\n",
    "\n",
    "elif nota_alumno >= 70 and nota_alumno <= 79:\n",
    "    print (f\"la nota es BIEN\")\n",
    "\n",
    "elif nota_alumno >= 80 and nota_alumno <= 89:\n",
    "    print (f\" la nota es MUY BIEN\")\n",
    "\n",
    "elif nota_alumno >= 90 and nota_alumno <= 100:\n",
    "    print (f\"la nota es EXCELENTE\")\n",
    "\n",
    "else:\n",
    "    print (f\" el dato no es váido\")\n"
   ]
  },
  {
   "cell_type": "markdown",
   "metadata": {},
   "source": [
    "#### 5. Escribe un programa que imprima el día de la semana, dado un número del 1 al 7.\n"
   ]
  },
  {
   "cell_type": "code",
   "execution_count": 7,
   "metadata": {},
   "outputs": [
    {
     "name": "stdout",
     "output_type": "stream",
     "text": [
      "sabado\n"
     ]
    }
   ],
   "source": [
    "\n",
    "dia_semana = int(input(f\"Introduce un numero del 1 al 7\"))\n",
    "\n",
    "if dia_semana == 1:\n",
    "    print (f\"Lunes\")\n",
    "\n",
    "elif dia_semana == 2:\n",
    "    print (f\"martes\")\n",
    "\n",
    "elif dia_semana ==3:\n",
    "    print (f\"miercoles\")\n",
    "\n",
    "elif dia_semana == 4:\n",
    "    print (f\"jueves\")\n",
    "\n",
    "elif dia_semana == 5:\n",
    "    print (f\"viernes\")\n",
    "\n",
    "elif dia_semana ==6:\n",
    "    print (f\"sabado\")\n",
    "\n",
    "elif dia_semana == 7:\n",
    "    print (f\"domingo\")\n",
    "\n",
    "else:\n",
    "    print (f\"el numero introducido no es correcto\")\n",
    "\n",
    "\n",
    "                 \n",
    "                "
   ]
  },
  {
   "cell_type": "markdown",
   "metadata": {},
   "source": [
    "#### 6. Escribe un programa que determine si un número es positivo, negativo o cero."
   ]
  },
  {
   "cell_type": "code",
   "execution_count": 8,
   "metadata": {},
   "outputs": [
    {
     "name": "stdout",
     "output_type": "stream",
     "text": [
      "es un numero positivo\n"
     ]
    }
   ],
   "source": [
    "numero = int (input(f\"introduce un numero\"))\n",
    "\n",
    "if numero < 0:\n",
    "    print (f\"es un numero negativo\")\n",
    "\n",
    "elif numero > 0:\n",
    "    print (f\"es un numero positivo\")\n",
    "\n",
    "else:\n",
    "    print (f\"el numero es un 0\")"
   ]
  },
  {
   "cell_type": "markdown",
   "metadata": {},
   "source": [
    "#### 7. Escribe un programa que determine si una persona puede conducir o no. La edad mínima para conducir es 18 años. \n"
   ]
  },
  {
   "cell_type": "code",
   "execution_count": 9,
   "metadata": {},
   "outputs": [
    {
     "name": "stdout",
     "output_type": "stream",
     "text": [
      "puedes conducir\n"
     ]
    }
   ],
   "source": [
    "edad = int(input(f\"Introduce tu edad\"))\n",
    "\n",
    "if edad >= 18:\n",
    "    print (f\"puedes conducir\")\n",
    "\n",
    "else:\n",
    "    print (f\"No puedes conducir\")"
   ]
  },
  {
   "cell_type": "markdown",
   "metadata": {},
   "source": [
    "#### 8. Escribe un programa que determine si un estudiante aprobó o suspendió un examen."
   ]
  },
  {
   "cell_type": "code",
   "execution_count": 10,
   "metadata": {},
   "outputs": [
    {
     "name": "stdout",
     "output_type": "stream",
     "text": [
      "El alumno ha aprobado\n"
     ]
    }
   ],
   "source": [
    "nota = int (input (f\"Introduce la nota del examen\"))\n",
    "\n",
    "if nota >= 5 and nota <=10:\n",
    "    print (f\"El alumno ha aprobado\")\n",
    "\n",
    "else:\n",
    "    print (f\"El alumno ha suspendido\")"
   ]
  },
  {
   "cell_type": "markdown",
   "metadata": {},
   "source": [
    "#### 9. Escribe un programa que determine si un número es múltiplo de 3 y 5.\n"
   ]
  },
  {
   "cell_type": "code",
   "execution_count": 11,
   "metadata": {},
   "outputs": [
    {
     "name": "stdout",
     "output_type": "stream",
     "text": [
      "El número 15 es múltiplo de 3 y de 5.\n"
     ]
    }
   ],
   "source": [
    "numero = int(input(f\"Introduce un número\"))\n",
    "\n",
    "\n",
    "if numero % 3 == 0 and numero % 5 == 0:\n",
    "    print(f\"El número {numero} es múltiplo de 3 y de 5.\")\n",
    "else:\n",
    "    print(f\"El número {numero} no es múltiplo de 3 y de 5.\")"
   ]
  },
  {
   "cell_type": "markdown",
   "metadata": {},
   "source": [
    "#### 10. Escribe un programa que determine si un número es par o impar.\n"
   ]
  },
  {
   "cell_type": "code",
   "execution_count": 12,
   "metadata": {},
   "outputs": [
    {
     "name": "stdout",
     "output_type": "stream",
     "text": [
      "El número 8 es par.\n"
     ]
    }
   ],
   "source": [
    "\n",
    "numero = int(input(\"Ingrese un número: \"))\n",
    "\n",
    "\n",
    "if numero % 2 == 0:\n",
    "    print(f\"El número {numero} es par.\")\n",
    "else:\n",
    "    print(f\"El número {numero} es impar.\")"
   ]
  }
 ],
 "metadata": {
  "kernelspec": {
   "display_name": "Python 3",
   "language": "python",
   "name": "python3"
  },
  "language_info": {
   "codemirror_mode": {
    "name": "ipython",
    "version": 3
   },
   "file_extension": ".py",
   "mimetype": "text/x-python",
   "name": "python",
   "nbconvert_exporter": "python",
   "pygments_lexer": "ipython3",
   "version": "3.12.6"
  }
 },
 "nbformat": 4,
 "nbformat_minor": 2
}
