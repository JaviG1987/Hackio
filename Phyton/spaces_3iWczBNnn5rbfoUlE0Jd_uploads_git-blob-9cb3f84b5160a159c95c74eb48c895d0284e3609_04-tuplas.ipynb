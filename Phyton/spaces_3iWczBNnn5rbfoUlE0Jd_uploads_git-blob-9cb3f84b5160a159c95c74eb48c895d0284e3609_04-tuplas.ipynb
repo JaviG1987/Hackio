{
 "cells": [
  {
   "cell_type": "markdown",
   "metadata": {},
   "source": [
    "<div style=\"text-align: center;\">\n",
    "  <img src=\"https://github.com/Hack-io-Data/Imagenes/blob/main/01-LogosHackio/logo_celeste@4x.png?raw=true\" alt=\"logo hack(io)\" />\n",
    "</div>\n"
   ]
  },
  {
   "cell_type": "markdown",
   "metadata": {},
   "source": [
    "#### 1. Crea una tupla llamada `persona` y asigna a ella los valores 'Juan', 25, 75.5, 1.75."
   ]
  },
  {
   "cell_type": "code",
   "execution_count": 12,
   "metadata": {},
   "outputs": [
    {
     "name": "stdout",
     "output_type": "stream",
     "text": [
      "<class 'tuple'>\n",
      "('Juan', 25, 75.5, 1.75)\n"
     ]
    }
   ],
   "source": [
    "persona = (\"Juan\", 25, 75.5, 1.75)\n",
    "print (type (persona))\n",
    "print (persona)"
   ]
  },
  {
   "cell_type": "markdown",
   "metadata": {},
   "source": [
    "#### 2. Crea una tupla llamada `animal` y asigna a ella los valores 'perro', 'gato', 'conejo'."
   ]
  },
  {
   "cell_type": "code",
   "execution_count": 13,
   "metadata": {},
   "outputs": [
    {
     "name": "stdout",
     "output_type": "stream",
     "text": [
      "<class 'tuple'>\n",
      "('perro', 'gato', 'conejo')\n"
     ]
    }
   ],
   "source": [
    "animal = (\"perro\", \"gato\", \"conejo\")\n",
    "print (type(animal))\n",
    "print (animal)"
   ]
  },
  {
   "cell_type": "markdown",
   "metadata": {},
   "source": [
    "#### 3. Obten la longitud de cada tupla y asigna el resultado a una variable llamada `longitud_persona` y `longitud_animal`.\n"
   ]
  },
  {
   "cell_type": "code",
   "execution_count": 14,
   "metadata": {},
   "outputs": [
    {
     "name": "stdout",
     "output_type": "stream",
     "text": [
      "4\n",
      "3\n"
     ]
    }
   ],
   "source": [
    "longitud_persona = len (persona)\n",
    "longitud_animal = len (animal)\n",
    "print (longitud_persona)\n",
    "print (longitud_animal)"
   ]
  },
  {
   "cell_type": "markdown",
   "metadata": {},
   "source": [
    "#### 4. Imprime en pantalla el valor de cada variable utilizando la función print()."
   ]
  },
  {
   "cell_type": "code",
   "execution_count": 15,
   "metadata": {},
   "outputs": [
    {
     "name": "stdout",
     "output_type": "stream",
     "text": [
      "('Juan', 25, 75.5, 1.75)\n",
      "('perro', 'gato', 'conejo')\n"
     ]
    }
   ],
   "source": [
    "print (persona)\n",
    "print (animal)"
   ]
  },
  {
   "cell_type": "markdown",
   "metadata": {},
   "source": [
    "#### 5. Convierte la tupla `animal` en una lista. Comprueba que es una lista."
   ]
  },
  {
   "cell_type": "code",
   "execution_count": 16,
   "metadata": {},
   "outputs": [
    {
     "name": "stdout",
     "output_type": "stream",
     "text": [
      "<class 'list'>\n"
     ]
    }
   ],
   "source": [
    "animal_lista = list (animal)\n",
    "print (type(animal_lista))"
   ]
  },
  {
   "cell_type": "markdown",
   "metadata": {},
   "source": [
    "#### 6. Genera una tupla anidada nueva compuesta por la tupla `datos` y la lista `animal`; la tupla `datos` esta compuesta por numeros enteros del 1 al 5. Asigna el resultado a una variable llamada `anidada`."
   ]
  },
  {
   "cell_type": "code",
   "execution_count": 17,
   "metadata": {},
   "outputs": [
    {
     "name": "stdout",
     "output_type": "stream",
     "text": [
      "((1, 2, 3, 4, 5), ['perro', 'gato', 'conejo'])\n"
     ]
    }
   ],
   "source": [
    "tupla_datos = 1, 2, 3, 4, 5,\n",
    "tupla_anidada = (tupla_datos, animal_lista)\n",
    "print (tupla_anidada)"
   ]
  },
  {
   "cell_type": "markdown",
   "metadata": {},
   "source": [
    "#### 7.  Accede al animal 'gato' de la tupla `anidada` e imprímelo en pantalla."
   ]
  },
  {
   "cell_type": "code",
   "execution_count": 18,
   "metadata": {},
   "outputs": [
    {
     "name": "stdout",
     "output_type": "stream",
     "text": [
      "gato\n"
     ]
    }
   ],
   "source": [
    "tupla_anidada = ((1, 2, 3, 4, 5), ['perro', 'gato', 'conejo'])\n",
    "tupla_gato = tupla_anidada[1][1]\n",
    "print (tupla_gato)"
   ]
  },
  {
   "cell_type": "markdown",
   "metadata": {},
   "source": [
    "#### 8. Crea una tupla donde su unico valor es \"C\" y asigna el resultado a una variable llamada `tupla1`."
   ]
  },
  {
   "cell_type": "code",
   "execution_count": 19,
   "metadata": {},
   "outputs": [
    {
     "name": "stdout",
     "output_type": "stream",
     "text": [
      "<class 'tuple'>\n",
      "('C',)\n"
     ]
    }
   ],
   "source": [
    "tupla1 = tuple (\"C\")\n",
    "print (type(tupla1))\n",
    "print (tupla1)"
   ]
  },
  {
   "cell_type": "markdown",
   "metadata": {},
   "source": [
    "#### 9. Identifica el tipo de dato de la tupla `tupla1`."
   ]
  },
  {
   "cell_type": "code",
   "execution_count": 20,
   "metadata": {},
   "outputs": [
    {
     "name": "stdout",
     "output_type": "stream",
     "text": [
      "<class 'tuple'>\n"
     ]
    }
   ],
   "source": [
    "print (type(tupla1))"
   ]
  },
  {
   "cell_type": "markdown",
   "metadata": {},
   "source": [
    "#### 10. Crea una tupla con los siguientes valores: 'o','s','i','n','c','h','i','s'. Asigna el resultado a una variable llamada `tupla2`."
   ]
  },
  {
   "cell_type": "code",
   "execution_count": 21,
   "metadata": {},
   "outputs": [
    {
     "name": "stdout",
     "output_type": "stream",
     "text": [
      "('o', 's', 'i', 'n', 'c', 'h', 'i', 's')\n"
     ]
    }
   ],
   "source": [
    "tupla2 = tuple (\"osinchis\")\n",
    "print (tupla2)"
   ]
  },
  {
   "cell_type": "markdown",
   "metadata": {},
   "source": [
    "#### 11. Crea una tupla que sea la unión de las dos tuplas anteriores y asigna el resultado a una variable llamada `tupla3`.  No te olvides de imprimirlo en pantalla.\n"
   ]
  },
  {
   "cell_type": "code",
   "execution_count": 22,
   "metadata": {},
   "outputs": [
    {
     "name": "stdout",
     "output_type": "stream",
     "text": [
      "(('C',), ('o', 's', 'i', 'n', 'c', 'h', 'i', 's'))\n"
     ]
    }
   ],
   "source": [
    "tupla3 = (tupla1, tupla2)\n",
    "print (tupla3)"
   ]
  },
  {
   "cell_type": "markdown",
   "metadata": {},
   "source": [
    "#### 12. ¿Cuál es la longitud de las tuplas `tupla1`,`tupla2` y `tupla3`?"
   ]
  },
  {
   "cell_type": "code",
   "execution_count": 23,
   "metadata": {},
   "outputs": [
    {
     "name": "stdout",
     "output_type": "stream",
     "text": [
      "(('C',), ('o', 's', 'i', 'n', 'c', 'h', 'i', 's'))\n",
      "La longitud de tupla1 es: 1\n",
      "La longitud de tupla2 es: 8\n",
      "La longitud de tupla3 es: 2\n"
     ]
    }
   ],
   "source": [
    "tupla1 = tuple (\"C\")\n",
    "tupla2 = tuple (\"osinchis\")\n",
    "tupla3 = (tupla1, tupla2)\n",
    "longitud_tupla1 = len(tupla1)\n",
    "longitud_tupla2 = len(tupla2)\n",
    "longitud_tupla3 = len(tupla3)\n",
    "print (tupla3)\n",
    "print(f\"La longitud de tupla1 es: {longitud_tupla1}\")\n",
    "print(f\"La longitud de tupla2 es: {longitud_tupla2}\")\n",
    "print(f\"La longitud de tupla3 es: {longitud_tupla3}\")"
   ]
  },
  {
   "cell_type": "markdown",
   "metadata": {},
   "source": [
    "#### 13. Comprueba que la longitud de la tupla `tupla3` es igual a la suma de las longitudes de las tuplas `tupla1` y `tupla2`.\n"
   ]
  },
  {
   "cell_type": "code",
   "execution_count": 24,
   "metadata": {},
   "outputs": [
    {
     "name": "stdout",
     "output_type": "stream",
     "text": [
      "1\n",
      "8\n",
      "2\n",
      "La longitud de tupla3 (2) no es igual a la suma de las longitudes de tupla1 y tupla2 (9).\n"
     ]
    }
   ],
   "source": [
    "print (longitud_tupla1)\n",
    "print (longitud_tupla2)\n",
    "print (longitud_tupla3)\n",
    "\n",
    "suma_longitudes = longitud_tupla1 + longitud_tupla2\n",
    "\n",
    "if longitud_tupla3 == suma_longitudes:\n",
    "    print(f\"La longitud de tupla3 ({longitud_tupla3}) es igual a la suma de las longitudes de tupla1 y tupla2 ({suma_longitudes}).\")\n",
    "else:\n",
    "    print(f\"La longitud de tupla3 ({longitud_tupla3}) no es igual a la suma de las longitudes de tupla1 y tupla2 ({suma_longitudes}).\")\n"
   ]
  },
  {
   "cell_type": "markdown",
   "metadata": {},
   "source": [
    "#### 14. Cual es el indice del valor 'h' en la tupla `tupla2`? y en `tupla3`?"
   ]
  },
  {
   "cell_type": "code",
   "execution_count": 26,
   "metadata": {},
   "outputs": [
    {
     "name": "stdout",
     "output_type": "stream",
     "text": [
      "El índice de 'h' en la segunda tupla de tupla3 es: 5\n",
      "El índice de 'h' en tupla2 es: 5\n"
     ]
    }
   ],
   "source": [
    "\n",
    "tupla1 = tuple (\"C\")\n",
    "tupla2 = tuple (\"osinchis\")\n",
    "tupla3 = (tupla1, tupla2)\n",
    "\n",
    "indice_h_tupla2 = tupla2.index('h')\n",
    "indice_h_tupla3 = tupla3[1].index('h')\n",
    "\n",
    "print(f\"El índice de 'h' en la segunda tupla de tupla3 es: {indice_h_tupla3}\")\n",
    "print(f\"El índice de 'h' en tupla2 es: {indice_h_tupla2}\")\n",
    "\n",
    "\n"
   ]
  }
 ],
 "metadata": {
  "kernelspec": {
   "display_name": "Python 3",
   "language": "python",
   "name": "python3"
  },
  "language_info": {
   "codemirror_mode": {
    "name": "ipython",
    "version": 3
   },
   "file_extension": ".py",
   "mimetype": "text/x-python",
   "name": "python",
   "nbconvert_exporter": "python",
   "pygments_lexer": "ipython3",
   "version": "3.12.6"
  }
 },
 "nbformat": 4,
 "nbformat_minor": 2
}
